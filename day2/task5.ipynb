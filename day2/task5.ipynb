{
 "cells": [
  {
   "cell_type": "code",
   "execution_count": 1,
   "id": "20144c2e-6d86-4ca0-b057-decb3f0866bb",
   "metadata": {},
   "outputs": [
    {
     "name": "stdout",
     "output_type": "stream",
     "text": [
      "第 2 行所有元素: [5 6 7 8]\n",
      "第 3 列所有元素: [ 3  7 11 15]\n",
      "子数组（第 1、2 行和第 2、3 列）:\n",
      " [[2 3]\n",
      " [6 7]]\n",
      "替换大于 10 元素为 0 后的数组:\n",
      " [[ 1  2  3  4]\n",
      " [ 5  6  7  8]\n",
      " [ 9 10  0  0]\n",
      " [ 0  0  0  0]]\n"
     ]
    }
   ],
   "source": [
    "import numpy as np\n",
    "\n",
    "array = np.array([[1, 2, 3, 4],\n",
    "                  [5, 6, 7, 8],\n",
    "                  [9, 10, 11, 12],\n",
    "                  [13, 14, 15, 16]])\n",
    "\n",
    "# 任务 1：提取第 2 行\n",
    "print(\"第 2 行所有元素:\", array[1, :])\n",
    "\n",
    "# 任务 2：提取第 3 列\n",
    "print(\"第 3 列所有元素:\", array[:, 2])\n",
    "\n",
    "# 任务 3：提取子数组（第 1、2 行和第 2、3 列）\n",
    "print(\"子数组（第 1、2 行和第 2、3 列）:\\n\", array[0:2, 1:3])\n",
    "\n",
    "# 任务 4：将大于 10 的元素替换为 0\n",
    "array[array > 10] = 0\n",
    "print(\"替换大于 10 元素为 0 后的数组:\\n\", array)"
   ]
  },
  {
   "cell_type": "code",
   "execution_count": null,
   "id": "28b9e622-162e-42df-91ac-78def043df89",
   "metadata": {},
   "outputs": [],
   "source": []
  }
 ],
 "metadata": {
  "kernelspec": {
   "display_name": "Python 3 (ipykernel)",
   "language": "python",
   "name": "python3"
  },
  "language_info": {
   "codemirror_mode": {
    "name": "ipython",
    "version": 3
   },
   "file_extension": ".py",
   "mimetype": "text/x-python",
   "name": "python",
   "nbconvert_exporter": "python",
   "pygments_lexer": "ipython3",
   "version": "3.12.4"
  }
 },
 "nbformat": 4,
 "nbformat_minor": 5
}
