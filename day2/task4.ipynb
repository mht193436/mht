{
 "cells": [
  {
   "cell_type": "code",
   "execution_count": 3,
   "id": "2bc82a02-738c-4c46-9d94-34b303cef470",
   "metadata": {},
   "outputs": [
    {
     "name": "stdout",
     "output_type": "stream",
     "text": [
      "数组的形状: (3, 4)\n",
      "数组的维度: 2\n",
      "数组的数据类型: int32\n",
      "\n",
      "数组元素乘以 2 的结果:\n",
      " [[ 2  4  6  8]\n",
      " [10 12 14 16]\n",
      " [18 20 22 24]]\n",
      "\n",
      "重塑为 4x3 的数组:\n",
      " [[ 1  2  3]\n",
      " [ 4  5  6]\n",
      " [ 7  8  9]\n",
      " [10 11 12]]\n"
     ]
    }
   ],
   "source": [
    "import numpy as np\n",
    "\n",
    "# 1. 创建一个 3x4 的二维数组，元素为 1 到 12 的整数\n",
    "array = np.arange(1, 13).reshape(3, 4)\n",
    "\n",
    "# 打印数组的形状、维度和数据类型\n",
    "print(\"数组的形状:\", array.shape)\n",
    "print(\"数组的维度:\", array.ndim)\n",
    "print(\"数组的数据类型:\", array.dtype)\n",
    "\n",
    "# 2. 将数组元素乘以 2，并打印结果\n",
    "array_multiplied = array * 2\n",
    "print(\"\\n数组元素乘以 2 的结果:\\n\", array_multiplied)\n",
    "\n",
    "# 3. 将数组重塑为 4x3 的形状，并打印新数组\n",
    "array_reshaped = array.reshape(4, 3)\n",
    "print(\"\\n重塑为 4x3 的数组:\\n\", array_reshaped)"
   ]
  },
  {
   "cell_type": "code",
   "execution_count": null,
   "id": "cc43526e-d964-4836-a755-bffdaeb4e67d",
   "metadata": {},
   "outputs": [],
   "source": []
  }
 ],
 "metadata": {
  "kernelspec": {
   "display_name": "Python 3 (ipykernel)",
   "language": "python",
   "name": "python3"
  },
  "language_info": {
   "codemirror_mode": {
    "name": "ipython",
    "version": 3
   },
   "file_extension": ".py",
   "mimetype": "text/x-python",
   "name": "python",
   "nbconvert_exporter": "python",
   "pygments_lexer": "ipython3",
   "version": "3.12.4"
  }
 },
 "nbformat": 4,
 "nbformat_minor": 5
}
