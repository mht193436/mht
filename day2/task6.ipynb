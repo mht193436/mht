{
 "cells": [
  {
   "cell_type": "code",
   "execution_count": 1,
   "id": "3ee908a5-39b2-45f9-a6c6-3cfa1e0a8b0a",
   "metadata": {},
   "outputs": [
    {
     "name": "stdout",
     "output_type": "stream",
     "text": [
      "数组 A:\n",
      " [[1 2]\n",
      " [3 4]\n",
      " [5 6]]\n",
      "数组 B: [10 20]\n",
      "\n",
      "A + B（广播后）:\n",
      " [[11 22]\n",
      " [13 24]\n",
      " [15 26]]\n",
      "A * B（广播后）:\n",
      " [[ 10  40]\n",
      " [ 30  80]\n",
      " [ 50 120]]\n",
      "A 每一行与 B 的点积结果: [ 50 110 170]\n"
     ]
    }
   ],
   "source": [
    "import numpy as np\n",
    "\n",
    "# 创建数组\n",
    "A = np.arange(1, 7).reshape(3, 2)\n",
    "B = np.array([10, 20])\n",
    "\n",
    "# 任务一：广播加法\n",
    "add_result = A + B\n",
    "\n",
    "# 任务二：广播乘法\n",
    "mul_result = A * B\n",
    "\n",
    "# 任务三：行与 B 的点积\n",
    "dot_result = np.dot(A, B)\n",
    "\n",
    "# 打印结果\n",
    "print(\"数组 A:\\n\", A)\n",
    "print(\"数组 B:\", B)\n",
    "print(\"\\nA + B（广播后）:\\n\", add_result)\n",
    "print(\"A * B（广播后）:\\n\", mul_result)\n",
    "print(\"A 每一行与 B 的点积结果:\", dot_result)"
   ]
  },
  {
   "cell_type": "code",
   "execution_count": null,
   "id": "6f103389-faa1-4ed3-9ef5-599dbe95f410",
   "metadata": {},
   "outputs": [],
   "source": []
  }
 ],
 "metadata": {
  "kernelspec": {
   "display_name": "Python 3 (ipykernel)",
   "language": "python",
   "name": "python3"
  },
  "language_info": {
   "codemirror_mode": {
    "name": "ipython",
    "version": 3
   },
   "file_extension": ".py",
   "mimetype": "text/x-python",
   "name": "python",
   "nbconvert_exporter": "python",
   "pygments_lexer": "ipython3",
   "version": "3.12.4"
  }
 },
 "nbformat": 4,
 "nbformat_minor": 5
}
