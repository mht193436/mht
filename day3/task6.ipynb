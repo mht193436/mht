{
 "cells": [
  {
   "cell_type": "code",
   "execution_count": 2,
   "id": "35d7c230-1667-4709-8de3-e35222e0b5ab",
   "metadata": {},
   "outputs": [
    {
     "name": "stdout",
     "output_type": "stream",
     "text": [
      "   Student_ID     Name  Score Grade\n",
      "0           1    Alice   85.0     A\n",
      "1           2      NaN    NaN     B\n",
      "2           3  Charlie   90.0     A\n"
     ]
    }
   ],
   "source": [
    "import pandas as pd\n",
    "import numpy as np\n",
    "\n",
    "# 创建包含至少5行数据，包含1个空值的DataFrame\n",
    "data = {\n",
    "    'Student_ID': [1, 2, 3, 4, 5],\n",
    "    'Name': ['Alice', None, 'Charlie', 'David', 'Eve'],\n",
    "    'Score': [85, np.nan, 90, 78, 88],\n",
    "    'Grade': ['A', 'B', 'A', 'C', 'B']\n",
    "}\n",
    "df = pd.DataFrame(data)\n",
    "\n",
    "# 将DataFrame保存为students.csv\n",
    "df.to_csv('students.csv', index=False)\n",
    "\n",
    "# 读取students.csv\n",
    "df = pd.read_csv('students.csv')\n",
    "\n",
    "# 打印前3行\n",
    "print(df.head(3))\n",
    "\n",
    "# 使用非inplace方式填充缺失值\n",
    "df['Score'] = df['Score'].fillna(df['Score'].mean())\n",
    "df['Name'] = df['Name'].fillna(\"Unknown\")\n",
    "\n",
    "# 将处理后的DataFrame保存为students_cleaned.csv\n",
    "df.to_csv('students_cleaned.csv', index=False)"
   ]
  },
  {
   "cell_type": "code",
   "execution_count": null,
   "id": "f02491f4-4d00-4b20-bc46-2dd098216698",
   "metadata": {},
   "outputs": [],
   "source": []
  }
 ],
 "metadata": {
  "kernelspec": {
   "display_name": "Python 3 (ipykernel)",
   "language": "python",
   "name": "python3"
  },
  "language_info": {
   "codemirror_mode": {
    "name": "ipython",
    "version": 3
   },
   "file_extension": ".py",
   "mimetype": "text/x-python",
   "name": "python",
   "nbconvert_exporter": "python",
   "pygments_lexer": "ipython3",
   "version": "3.12.4"
  }
 },
 "nbformat": 4,
 "nbformat_minor": 5
}
